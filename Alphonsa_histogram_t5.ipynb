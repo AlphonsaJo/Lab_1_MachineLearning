{
 "cells": [
  {
   "cell_type": "code",
   "execution_count": null,
   "metadata": {},
   "outputs": [],
   "source": [
    "import pandas as pd\n",
    "import matplotlib.pyplot as plt\n",
    "\n",
    "# Assuming your dataset is stored in a CSV file named 'your_dataset.csv'\n",
    "# Replace 'your_dataset.csv' with the actual file name if it's different\n",
    "\n",
    "\n",
    "# Load the dataset\n",
    "df = pd.read_csv('train2.csv')\n",
    "\n",
    "# Separate the features (embed_0 to embed_92) and the target variable (Judgment Status)\n",
    "features = df.iloc[:, 1:]\n",
    "target = df['Judgment Status']\n",
    "\n",
    "# Iterate through each feature and create histograms for each class of 'Judgment Status'\n",
    "for column in features.columns:\n",
    "    plt.figure(figsize=(10, 6))\n",
    "    for status in target.unique():\n",
    "        plt.hist(features[target == status][column], bins=50, alpha=0.5, label=status)\n",
    "    \n",
    "    plt.title(f'Histogram for {column}')\n",
    "    plt.xlabel('Value')\n",
    "    plt.ylabel('Frequency')\n",
    "    plt.legend(loc='upper right')\n",
    "    plt.show()\n"
   ]
  }
 ],
 "metadata": {
  "language_info": {
   "name": "python"
  }
 },
 "nbformat": 4,
 "nbformat_minor": 2
}
